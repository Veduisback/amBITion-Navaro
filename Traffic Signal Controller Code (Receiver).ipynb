{
 "cells": [
  {
   "cell_type": "code",
   "execution_count": null,
   "id": "c704e9dd-bbf9-481f-a897-538cc1d95e70",
   "metadata": {},
   "outputs": [],
   "source": []
  }
 ],
 "metadata": {
  "kernelspec": {
   "display_name": "",
   "name": ""
  },
  "language_info": {
   "name": ""
  }
 },
 "nbformat": 4,
 "nbformat_minor": 5
}
