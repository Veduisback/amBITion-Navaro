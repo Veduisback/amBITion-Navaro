{
 "cells": [
  {
   "cell_type": "code",
   "execution_count": 1,
   "id": "cde93f70-bb02-4aed-9bd4-f35c7ec64bdb",
   "metadata": {},
   "outputs": [
    {
     "ename": "ModuleNotFoundError",
     "evalue": "No module named 'paho'",
     "output_type": "error",
     "traceback": [
      "\u001b[1;31m---------------------------------------------------------------------------\u001b[0m",
      "\u001b[1;31mModuleNotFoundError\u001b[0m                       Traceback (most recent call last)",
      "Cell \u001b[1;32mIn[1], line 2\u001b[0m\n\u001b[0;32m      1\u001b[0m \u001b[38;5;28;01mimport\u001b[39;00m\u001b[38;5;250m \u001b[39m\u001b[38;5;21;01mtime\u001b[39;00m\n\u001b[1;32m----> 2\u001b[0m \u001b[38;5;28;01mimport\u001b[39;00m\u001b[38;5;250m \u001b[39m\u001b[38;5;21;01mpaho\u001b[39;00m\u001b[38;5;21;01m.\u001b[39;00m\u001b[38;5;21;01mmqtt\u001b[39;00m\u001b[38;5;21;01m.\u001b[39;00m\u001b[38;5;21;01mclient\u001b[39;00m\u001b[38;5;250m \u001b[39m\u001b[38;5;28;01mas\u001b[39;00m\u001b[38;5;250m \u001b[39m\u001b[38;5;21;01mmqtt\u001b[39;00m\n\u001b[0;32m      3\u001b[0m \u001b[38;5;28;01mimport\u001b[39;00m\u001b[38;5;250m \u001b[39m\u001b[38;5;21;01mgeopy\u001b[39;00m\u001b[38;5;21;01m.\u001b[39;00m\u001b[38;5;21;01mdistance\u001b[39;00m\n\u001b[0;32m      5\u001b[0m \u001b[38;5;66;03m# Waypoints of traffic signals (latitude, longitude, ID)\u001b[39;00m\n",
      "\u001b[1;31mModuleNotFoundError\u001b[0m: No module named 'paho'"
     ]
    }
   ],
   "source": [
    "import time\n",
    "import paho.mqtt.client as mqtt\n",
    "import geopy.distance\n",
    "\n",
    "# Waypoints of traffic signals (latitude, longitude, ID)\n",
    "traffic_signals = [\n",
    "    {\"id\": \"TS1\", \"coords\": (12.9716, 77.5946)},\n",
    "    {\"id\": \"TS2\", \"coords\": (12.9721, 77.6000)},\n",
    "    {\"id\": \"TS3\", \"coords\": (12.9750, 77.6050)}\n",
    "]\n",
    "\n",
    "# MQTT broker (simulate control center)\n",
    "BROKER = \"broker.hivemq.com\"\n",
    "TOPIC = \"traffic/signal/request\"\n",
    "\n",
    "client = mqtt.Client()\n",
    "client.connect(BROKER, 1883, 60)\n",
    "\n",
    "def get_current_location():\n",
    "    # Example: Replace with real GPS module code\n",
    "    return (12.9720, 77.5990)  # current ambulance location\n",
    "\n",
    "def find_nearest_signal(current_location):\n",
    "    nearest = None\n",
    "    min_dist = float(\"inf\")\n",
    "    for signal in traffic_signals:\n",
    "        dist = geopy.distance.distance(current_location, signal[\"coords\"]).m\n",
    "        if dist < min_dist:\n",
    "            min_dist = dist\n",
    "            nearest = signal\n",
    "    return nearest, min_dist\n",
    "\n",
    "while True:\n",
    "    location = get_current_location()\n",
    "    nearest_signal, distance = find_nearest_signal(location)\n",
    "\n",
    "    if nearest_signal and distance < 500:  # within 500 meters\n",
    "        message = {\n",
    "            \"ambulance_id\": \"AMB123\",\n",
    "            \"signal_id\": nearest_signal[\"id\"],\n",
    "            \"action\": \"REQUEST_GREEN\",\n",
    "            \"location\": location\n",
    "        }\n",
    "        client.publish(TOPIC, str(message))\n",
    "        print(\"🚑 Request sent:\", message)\n",
    "\n",
    "    time.sleep(5)\n"
   ]
  },
  {
   "cell_type": "code",
   "execution_count": null,
   "id": "f86e0f6d-b04c-4099-82a5-82c0536423f5",
   "metadata": {},
   "outputs": [],
   "source": []
  }
 ],
 "metadata": {
  "kernelspec": {
   "display_name": "Python [conda env:base] *",
   "language": "python",
   "name": "conda-base-py"
  },
  "language_info": {
   "codemirror_mode": {
    "name": "ipython",
    "version": 3
   },
   "file_extension": ".py",
   "mimetype": "text/x-python",
   "name": "python",
   "nbconvert_exporter": "python",
   "pygments_lexer": "ipython3",
   "version": "3.13.5"
  }
 },
 "nbformat": 4,
 "nbformat_minor": 5
}
